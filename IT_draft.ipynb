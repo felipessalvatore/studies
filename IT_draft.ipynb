{
 "cells": [
  {
   "cell_type": "markdown",
   "metadata": {},
   "source": [
    "# Information Theory"
   ]
  },
  {
   "cell_type": "code",
   "execution_count": 1,
   "metadata": {
    "execution": {
     "iopub.execute_input": "2021-09-12T23:39:08.879010Z",
     "iopub.status.busy": "2021-09-12T23:39:08.878776Z",
     "iopub.status.idle": "2021-09-12T23:39:09.437371Z",
     "shell.execute_reply": "2021-09-12T23:39:09.436441Z",
     "shell.execute_reply.started": "2021-09-12T23:39:08.878991Z"
    }
   },
   "outputs": [],
   "source": [
    "import numpy as np\n",
    "import pandas as pd\n",
    "import matplotlib.pyplot as plt\n",
    "import seaborn as sns\n",
    "from scipy import stats\n",
    "import math\n",
    "from functools import reduce"
   ]
  },
  {
   "cell_type": "code",
   "execution_count": 2,
   "metadata": {
    "execution": {
     "iopub.execute_input": "2021-09-12T23:39:09.438843Z",
     "iopub.status.busy": "2021-09-12T23:39:09.438633Z",
     "iopub.status.idle": "2021-09-12T23:39:09.448721Z",
     "shell.execute_reply": "2021-09-12T23:39:09.448133Z",
     "shell.execute_reply.started": "2021-09-12T23:39:09.438823Z"
    }
   },
   "outputs": [],
   "source": [
    "def nCk(n,k):\n",
    "    f = math.factorial\n",
    "    return f(n) / f(k) / f(n-k)\n",
    "\n",
    "def get_error(n,f):\n",
    "    return np.sum([nCk(n,i)*np.power(f,i)*np.power((1-f),(n-i)) for i in range(1,n+1)])\n",
    "\n",
    "def get_n_msg(n,msg_size):\n",
    "    runs = [np.random.choice([\"0\", \"1\"], size=msg_size,p=[0.5,0.5]) for _ in range(n)]\n",
    "    msgs = [reduce((lambda x, y: x + y), r) for r in runs]\n",
    "    return msgs\n",
    "\n",
    "def flib_bit(x,f):\n",
    "    if x ==1:\n",
    "        n_x = np.random.choice([0,1],p=[f, (1-f)])\n",
    "    else:\n",
    "        n_x = np.random.choice([1,0],p=[f, (1-f)])\n",
    "    return n_x  \n",
    "\n",
    "class NoiseChannel():\n",
    "    def __init__(self, f, n_rep):\n",
    "        self.f = f\n",
    "        self.n_rep = n_rep\n",
    "        \n",
    "    def send(self, msg):\n",
    "        new_msg = \"\"\n",
    "        for i in msg:\n",
    "            new_msg += str(flib_bit(int(i),self.f))\n",
    "        return new_msg\n",
    "    \n",
    "    def encode(self, msg):\n",
    "        new_msg = \"\"\n",
    "        for i in msg:\n",
    "            new_msg += i * self.n_rep\n",
    "        return new_msg\n",
    "    \n",
    "    def decode(self, msg):\n",
    "        n = self.n_rep\n",
    "        split_string = [msg[i:i+n] for i in range(0, len(msg), n)]\n",
    "        dec_msg = \"\"\n",
    "        for cell in split_string:\n",
    "            i = stats.mode([int(i) for i in cell])[0][0]\n",
    "            dec_msg += str(i)\n",
    "        return dec_msg   "
   ]
  },
  {
   "cell_type": "code",
   "execution_count": 3,
   "metadata": {
    "execution": {
     "iopub.execute_input": "2021-09-12T23:39:09.449855Z",
     "iopub.status.busy": "2021-09-12T23:39:09.449689Z",
     "iopub.status.idle": "2021-09-12T23:39:10.805046Z",
     "shell.execute_reply": "2021-09-12T23:39:10.804430Z",
     "shell.execute_reply.started": "2021-09-12T23:39:09.449838Z"
    }
   },
   "outputs": [
    {
     "name": "stdout",
     "output_type": "stream",
     "text": [
      "0.222 0.6513215599000002\n"
     ]
    }
   ],
   "source": [
    "f=0.1\n",
    "simu = 1000\n",
    "n_rep = 3\n",
    "msg_size = 10\n",
    "\n",
    "\n",
    "n1 = NoiseChannel(f=f, n_rep=n_rep)\n",
    "msgs = get_n_msg(n=simu,msg_size=msg_size)\n",
    "trans = [n1.decode(n1.send(n1.encode(m))) for m in msgs]\n",
    "results = [int(m!=t) for m,t in zip(msgs, trans)]\n",
    "error_rate = np.mean(results)\n",
    "error_p = get_error(n=msg_size,f=f)\n",
    "print(error_rate, error_p)"
   ]
  },
  {
   "cell_type": "code",
   "execution_count": 4,
   "metadata": {
    "execution": {
     "iopub.execute_input": "2021-09-12T23:39:10.805920Z",
     "iopub.status.busy": "2021-09-12T23:39:10.805753Z",
     "iopub.status.idle": "2021-09-12T23:39:10.810565Z",
     "shell.execute_reply": "2021-09-12T23:39:10.810099Z",
     "shell.execute_reply.started": "2021-09-12T23:39:10.805903Z"
    }
   },
   "outputs": [
    {
     "data": {
      "text/plain": [
       "('1100100101', '0011000101')"
      ]
     },
     "execution_count": 4,
     "metadata": {},
     "output_type": "execute_result"
    }
   ],
   "source": [
    "f=0.25\n",
    "n2 = NoiseChannel(f=f, n_rep=n_rep)\n",
    "msgs[0], n2.send(msgs[0])"
   ]
  },
  {
   "cell_type": "code",
   "execution_count": null,
   "metadata": {},
   "outputs": [],
   "source": []
  }
 ],
 "metadata": {
  "kernelspec": {
   "display_name": "Python 3",
   "language": "python",
   "name": "python3"
  },
  "language_info": {
   "codemirror_mode": {
    "name": "ipython",
    "version": 3
   },
   "file_extension": ".py",
   "mimetype": "text/x-python",
   "name": "python",
   "nbconvert_exporter": "python",
   "pygments_lexer": "ipython3",
   "version": "3.7.6"
  }
 },
 "nbformat": 4,
 "nbformat_minor": 4
}
